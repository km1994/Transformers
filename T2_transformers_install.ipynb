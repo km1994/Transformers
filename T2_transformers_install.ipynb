{
 "cells": [
  {
   "cell_type": "code",
   "execution_count": 1,
   "metadata": {
    "colab": {
     "base_uri": "https://localhost:8080/",
     "height": 649
    },
    "colab_type": "code",
    "id": "chcT9gbCKCwZ",
    "outputId": "d18a868a-1c98-4e3f-e8a7-10f09d5bd2fb"
   },
   "outputs": [
    {
     "name": "stdout",
     "output_type": "stream",
     "text": [
      "Collecting transformers\n",
      "\u001b[?25l  Downloading https://files.pythonhosted.org/packages/27/3c/91ed8f5c4e7ef3227b4119200fc0ed4b4fd965b1f0172021c25701087825/transformers-3.0.2-py3-none-any.whl (769kB)\n",
      "\r",
      "\u001b[K     |▍                               | 10kB 15.8MB/s eta 0:00:01\r",
      "\u001b[K     |▉                               | 20kB 2.1MB/s eta 0:00:01\r",
      "\u001b[K     |█▎                              | 30kB 2.8MB/s eta 0:00:01\r",
      "\u001b[K     |█▊                              | 40kB 3.0MB/s eta 0:00:01\r",
      "\u001b[K     |██▏                             | 51kB 2.5MB/s eta 0:00:01\r",
      "\u001b[K     |██▋                             | 61kB 2.8MB/s eta 0:00:01\r",
      "\u001b[K     |███                             | 71kB 3.0MB/s eta 0:00:01\r",
      "\u001b[K     |███▍                            | 81kB 3.4MB/s eta 0:00:01\r",
      "\u001b[K     |███▉                            | 92kB 3.5MB/s eta 0:00:01\r",
      "\u001b[K     |████▎                           | 102kB 3.4MB/s eta 0:00:01\r",
      "\u001b[K     |████▊                           | 112kB 3.4MB/s eta 0:00:01\r",
      "\u001b[K     |█████▏                          | 122kB 3.4MB/s eta 0:00:01\r",
      "\u001b[K     |█████▌                          | 133kB 3.4MB/s eta 0:00:01\r",
      "\u001b[K     |██████                          | 143kB 3.4MB/s eta 0:00:01\r",
      "\u001b[K     |██████▍                         | 153kB 3.4MB/s eta 0:00:01\r",
      "\u001b[K     |██████▉                         | 163kB 3.4MB/s eta 0:00:01\r",
      "\u001b[K     |███████▎                        | 174kB 3.4MB/s eta 0:00:01\r",
      "\u001b[K     |███████▊                        | 184kB 3.4MB/s eta 0:00:01\r",
      "\u001b[K     |████████                        | 194kB 3.4MB/s eta 0:00:01\r",
      "\u001b[K     |████████▌                       | 204kB 3.4MB/s eta 0:00:01\r",
      "\u001b[K     |█████████                       | 215kB 3.4MB/s eta 0:00:01\r",
      "\u001b[K     |█████████▍                      | 225kB 3.4MB/s eta 0:00:01\r",
      "\u001b[K     |█████████▉                      | 235kB 3.4MB/s eta 0:00:01\r",
      "\u001b[K     |██████████▎                     | 245kB 3.4MB/s eta 0:00:01\r",
      "\u001b[K     |██████████▋                     | 256kB 3.4MB/s eta 0:00:01\r",
      "\u001b[K     |███████████                     | 266kB 3.4MB/s eta 0:00:01\r",
      "\u001b[K     |███████████▌                    | 276kB 3.4MB/s eta 0:00:01\r",
      "\u001b[K     |████████████                    | 286kB 3.4MB/s eta 0:00:01\r",
      "\u001b[K     |████████████▍                   | 296kB 3.4MB/s eta 0:00:01\r",
      "\u001b[K     |████████████▉                   | 307kB 3.4MB/s eta 0:00:01\r",
      "\u001b[K     |█████████████▏                  | 317kB 3.4MB/s eta 0:00:01\r",
      "\u001b[K     |█████████████▋                  | 327kB 3.4MB/s eta 0:00:01\r",
      "\u001b[K     |██████████████                  | 337kB 3.4MB/s eta 0:00:01\r",
      "\u001b[K     |██████████████▌                 | 348kB 3.4MB/s eta 0:00:01\r",
      "\u001b[K     |███████████████                 | 358kB 3.4MB/s eta 0:00:01\r",
      "\u001b[K     |███████████████▍                | 368kB 3.4MB/s eta 0:00:01\r",
      "\u001b[K     |███████████████▊                | 378kB 3.4MB/s eta 0:00:01\r",
      "\u001b[K     |████████████████▏               | 389kB 3.4MB/s eta 0:00:01\r",
      "\u001b[K     |████████████████▋               | 399kB 3.4MB/s eta 0:00:01\r",
      "\u001b[K     |█████████████████               | 409kB 3.4MB/s eta 0:00:01\r",
      "\u001b[K     |█████████████████▌              | 419kB 3.4MB/s eta 0:00:01\r",
      "\u001b[K     |██████████████████              | 430kB 3.4MB/s eta 0:00:01\r",
      "\u001b[K     |██████████████████▎             | 440kB 3.4MB/s eta 0:00:01\r",
      "\u001b[K     |██████████████████▊             | 450kB 3.4MB/s eta 0:00:01\r",
      "\u001b[K     |███████████████████▏            | 460kB 3.4MB/s eta 0:00:01\r",
      "\u001b[K     |███████████████████▋            | 471kB 3.4MB/s eta 0:00:01\r",
      "\u001b[K     |████████████████████            | 481kB 3.4MB/s eta 0:00:01\r",
      "\u001b[K     |████████████████████▌           | 491kB 3.4MB/s eta 0:00:01\r",
      "\u001b[K     |████████████████████▉           | 501kB 3.4MB/s eta 0:00:01\r",
      "\u001b[K     |█████████████████████▎          | 512kB 3.4MB/s eta 0:00:01\r",
      "\u001b[K     |█████████████████████▊          | 522kB 3.4MB/s eta 0:00:01\r",
      "\u001b[K     |██████████████████████▏         | 532kB 3.4MB/s eta 0:00:01\r",
      "\u001b[K     |██████████████████████▋         | 542kB 3.4MB/s eta 0:00:01\r",
      "\u001b[K     |███████████████████████         | 552kB 3.4MB/s eta 0:00:01\r",
      "\u001b[K     |███████████████████████▍        | 563kB 3.4MB/s eta 0:00:01\r",
      "\u001b[K     |███████████████████████▉        | 573kB 3.4MB/s eta 0:00:01\r",
      "\u001b[K     |████████████████████████▎       | 583kB 3.4MB/s eta 0:00:01\r",
      "\u001b[K     |████████████████████████▊       | 593kB 3.4MB/s eta 0:00:01\r",
      "\u001b[K     |█████████████████████████▏      | 604kB 3.4MB/s eta 0:00:01\r",
      "\u001b[K     |█████████████████████████▋      | 614kB 3.4MB/s eta 0:00:01\r",
      "\u001b[K     |██████████████████████████      | 624kB 3.4MB/s eta 0:00:01\r",
      "\u001b[K     |██████████████████████████▍     | 634kB 3.4MB/s eta 0:00:01\r",
      "\u001b[K     |██████████████████████████▉     | 645kB 3.4MB/s eta 0:00:01\r",
      "\u001b[K     |███████████████████████████▎    | 655kB 3.4MB/s eta 0:00:01\r",
      "\u001b[K     |███████████████████████████▊    | 665kB 3.4MB/s eta 0:00:01\r",
      "\u001b[K     |████████████████████████████▏   | 675kB 3.4MB/s eta 0:00:01\r",
      "\u001b[K     |████████████████████████████▌   | 686kB 3.4MB/s eta 0:00:01\r",
      "\u001b[K     |█████████████████████████████   | 696kB 3.4MB/s eta 0:00:01\r",
      "\u001b[K     |█████████████████████████████▍  | 706kB 3.4MB/s eta 0:00:01\r",
      "\u001b[K     |█████████████████████████████▉  | 716kB 3.4MB/s eta 0:00:01\r",
      "\u001b[K     |██████████████████████████████▎ | 727kB 3.4MB/s eta 0:00:01\r",
      "\u001b[K     |██████████████████████████████▊ | 737kB 3.4MB/s eta 0:00:01\r",
      "\u001b[K     |███████████████████████████████ | 747kB 3.4MB/s eta 0:00:01\r",
      "\u001b[K     |███████████████████████████████▌| 757kB 3.4MB/s eta 0:00:01\r",
      "\u001b[K     |████████████████████████████████| 768kB 3.4MB/s eta 0:00:01\r",
      "\u001b[K     |████████████████████████████████| 778kB 3.4MB/s \n",
      "\u001b[?25hRequirement already satisfied: requests in /usr/local/lib/python3.6/dist-packages (from transformers) (2.23.0)\n",
      "Collecting sacremoses\n",
      "\u001b[?25l  Downloading https://files.pythonhosted.org/packages/7d/34/09d19aff26edcc8eb2a01bed8e98f13a1537005d31e95233fd48216eed10/sacremoses-0.0.43.tar.gz (883kB)\n",
      "\u001b[K     |████████████████████████████████| 890kB 15.7MB/s \n",
      "\u001b[?25hRequirement already satisfied: tqdm>=4.27 in /usr/local/lib/python3.6/dist-packages (from transformers) (4.41.1)\n",
      "Requirement already satisfied: filelock in /usr/local/lib/python3.6/dist-packages (from transformers) (3.0.12)\n",
      "Requirement already satisfied: regex!=2019.12.17 in /usr/local/lib/python3.6/dist-packages (from transformers) (2019.12.20)\n",
      "Collecting sentencepiece!=0.1.92\n",
      "\u001b[?25l  Downloading https://files.pythonhosted.org/packages/d4/a4/d0a884c4300004a78cca907a6ff9a5e9fe4f090f5d95ab341c53d28cbc58/sentencepiece-0.1.91-cp36-cp36m-manylinux1_x86_64.whl (1.1MB)\n",
      "\u001b[K     |████████████████████████████████| 1.1MB 25.1MB/s \n",
      "\u001b[?25hRequirement already satisfied: packaging in /usr/local/lib/python3.6/dist-packages (from transformers) (20.4)\n",
      "Collecting tokenizers==0.8.1.rc1\n",
      "\u001b[?25l  Downloading https://files.pythonhosted.org/packages/40/d0/30d5f8d221a0ed981a186c8eb986ce1c94e3a6e87f994eae9f4aa5250217/tokenizers-0.8.1rc1-cp36-cp36m-manylinux1_x86_64.whl (3.0MB)\n",
      "\u001b[K     |████████████████████████████████| 3.0MB 38.1MB/s \n",
      "\u001b[?25hRequirement already satisfied: dataclasses; python_version < \"3.7\" in /usr/local/lib/python3.6/dist-packages (from transformers) (0.7)\n",
      "Requirement already satisfied: numpy in /usr/local/lib/python3.6/dist-packages (from transformers) (1.18.5)\n",
      "Requirement already satisfied: certifi>=2017.4.17 in /usr/local/lib/python3.6/dist-packages (from requests->transformers) (2020.6.20)\n",
      "Requirement already satisfied: idna<3,>=2.5 in /usr/local/lib/python3.6/dist-packages (from requests->transformers) (2.10)\n",
      "Requirement already satisfied: urllib3!=1.25.0,!=1.25.1,<1.26,>=1.21.1 in /usr/local/lib/python3.6/dist-packages (from requests->transformers) (1.24.3)\n",
      "Requirement already satisfied: chardet<4,>=3.0.2 in /usr/local/lib/python3.6/dist-packages (from requests->transformers) (3.0.4)\n",
      "Requirement already satisfied: six in /usr/local/lib/python3.6/dist-packages (from sacremoses->transformers) (1.15.0)\n",
      "Requirement already satisfied: click in /usr/local/lib/python3.6/dist-packages (from sacremoses->transformers) (7.1.2)\n",
      "Requirement already satisfied: joblib in /usr/local/lib/python3.6/dist-packages (from sacremoses->transformers) (0.16.0)\n",
      "Requirement already satisfied: pyparsing>=2.0.2 in /usr/local/lib/python3.6/dist-packages (from packaging->transformers) (2.4.7)\n",
      "Building wheels for collected packages: sacremoses\n",
      "  Building wheel for sacremoses (setup.py) ... \u001b[?25l\u001b[?25hdone\n",
      "  Created wheel for sacremoses: filename=sacremoses-0.0.43-cp36-none-any.whl size=893260 sha256=89c24c5fd412e2f980468345dc915c244644544adcce3772997aea6d017f4f53\n",
      "  Stored in directory: /root/.cache/pip/wheels/29/3c/fd/7ce5c3f0666dab31a50123635e6fb5e19ceb42ce38d4e58f45\n",
      "Successfully built sacremoses\n",
      "Installing collected packages: sacremoses, sentencepiece, tokenizers, transformers\n",
      "Successfully installed sacremoses-0.0.43 sentencepiece-0.1.91 tokenizers-0.8.1rc1 transformers-3.0.2\n"
     ]
    }
   ],
   "source": [
    "!pip install transformers"
   ]
  },
  {
   "cell_type": "code",
   "execution_count": 4,
   "metadata": {
    "colab": {
     "base_uri": "https://localhost:8080/",
     "height": 35
    },
    "colab_type": "code",
    "id": "pyE6ZkB6OL38",
    "outputId": "37e588a8-abc1-4087-e5e3-8e068b5ee04d"
   },
   "outputs": [
    {
     "data": {
      "application/vnd.google.colaboratory.intrinsic+json": {
       "type": "string"
      },
      "text/plain": [
       "'3.0.2'"
      ]
     },
     "execution_count": 4,
     "metadata": {
      "tags": []
     },
     "output_type": "execute_result"
    }
   ],
   "source": [
    "import tensorflow as tf; tf.__version__ # 2.0.0\n",
    "import torch; torch.__version__ # 1.3.1\n",
    "import transformers;transformers.__version__ # 2.10.0"
   ]
  },
  {
   "cell_type": "code",
   "execution_count": 2,
   "metadata": {
    "colab": {
     "base_uri": "https://localhost:8080/",
     "height": 167,
     "referenced_widgets": [
      "04b5ff2c7c024b0a9358e321a8212499",
      "53e8e35202b34e3b8ef5c06a232450e6",
      "a0e4485d563b4bdcbeafeae903993e98",
      "3b8af1af57f945c58f667fd7a2be472c",
      "edc18618b7c445fe9aea3aeb532819a4",
      "860c24e0f5cc4e75ade9d75eee567e27",
      "69e7ba16413546fa911d968bc621a032",
      "d21a6a78bea345ba8e9d0dac2fe97df3",
      "a95fd4d77d164a45bc9c73094f407707",
      "1113e04c26744174bf5820afa3e4c293",
      "719ebffe34844574a2c765cf533056d3",
      "71d9bfd089f44806bb16f0887cfc5708",
      "f6f9568d2521453cb4344b6b7ed5b9f3",
      "92f9dc27c09c42dda36399a2b88c26f5",
      "08845c9070114100b0abb3bc48cdbf80",
      "d8f303e25b48466fb05523a900a6e1fa",
      "bda3ebffba77406c822f29fcb6cb2b77",
      "f33a560acc2d44458d8f9c86389d0666",
      "c38cf1b2d476428b94f2bbd34b23af53",
      "b4f0424f9d2e4c22b0c720f04570fab3",
      "73d0a665e35d4568930d5eb74ef00b35",
      "66c7b019ab1747cf907e331ba5aa5eb7",
      "cfb95f5a7c1c40469b47657cba675f16",
      "6ecf2bf0b1014e288a3d7aec4d54a445"
     ]
    },
    "colab_type": "code",
    "id": "-02lKWKuKRkW",
    "outputId": "26c10665-95e3-4a75-9529-9968f00d3c8e"
   },
   "outputs": [
    {
     "data": {
      "application/vnd.jupyter.widget-view+json": {
       "model_id": "04b5ff2c7c024b0a9358e321a8212499",
       "version_major": 2,
       "version_minor": 0
      },
      "text/plain": [
       "HBox(children=(FloatProgress(value=0.0, description='Downloading', max=624.0, style=ProgressStyle(description_…"
      ]
     },
     "metadata": {
      "tags": []
     },
     "output_type": "display_data"
    },
    {
     "name": "stdout",
     "output_type": "stream",
     "text": [
      "\n"
     ]
    },
    {
     "data": {
      "application/vnd.jupyter.widget-view+json": {
       "model_id": "a95fd4d77d164a45bc9c73094f407707",
       "version_major": 2,
       "version_minor": 0
      },
      "text/plain": [
       "HBox(children=(FloatProgress(value=0.0, description='Downloading', max=109540.0, style=ProgressStyle(descripti…"
      ]
     },
     "metadata": {
      "tags": []
     },
     "output_type": "display_data"
    },
    {
     "name": "stdout",
     "output_type": "stream",
     "text": [
      "\n"
     ]
    },
    {
     "data": {
      "application/vnd.jupyter.widget-view+json": {
       "model_id": "bda3ebffba77406c822f29fcb6cb2b77",
       "version_major": 2,
       "version_minor": 0
      },
      "text/plain": [
       "HBox(children=(FloatProgress(value=0.0, description='Downloading', max=411577189.0, style=ProgressStyle(descri…"
      ]
     },
     "metadata": {
      "tags": []
     },
     "output_type": "display_data"
    },
    {
     "name": "stdout",
     "output_type": "stream",
     "text": [
      "\n"
     ]
    }
   ],
   "source": [
    "from transformers import AutoModel, AutoTokenizer\n",
    "tokenizer = AutoTokenizer.from_pretrained('bert-base-chinese')\n",
    "model = AutoModel.from_pretrained('bert-base-chinese')"
   ]
  },
  {
   "cell_type": "markdown",
   "metadata": {
    "colab_type": "text",
    "id": "QL3q_2k1PwuN"
   },
   "source": [
    "# 向量编码和向量相似性展示"
   ]
  },
  {
   "cell_type": "code",
   "execution_count": 6,
   "metadata": {
    "colab": {},
    "colab_type": "code",
    "collapsed": true,
    "id": "APL-lLFTOA4u"
   },
   "outputs": [],
   "source": [
    "# tensor([[ 101, 3217, 4697,  679, 6230, 3236,  102]])\n",
    "input_ids = tokenizer.encode('春眠不觉晓', return_tensors='pt')\n",
    "last_hidden_state, _ = model(input_ids) # shape (1, 7, 768)\n",
    "v = torch.mean(last_hidden_state, dim=1) # shape (1, 768)"
   ]
  },
  {
   "cell_type": "code",
   "execution_count": 13,
   "metadata": {
    "colab": {
     "base_uri": "https://localhost:8080/",
     "height": 107
    },
    "colab_type": "code",
    "id": "IcQH5ICRPswj",
    "outputId": "cdad4ccb-7681-4eac-a07d-8b4db04188d1"
   },
   "outputs": [
    {
     "name": "stdout",
     "output_type": "stream",
     "text": [
      "np.array(nvs).shape:(4, 1, 768)\n",
      "[[1.   0.75 0.83 0.57]\n",
      " [0.75 1.   0.72 0.51]\n",
      " [0.83 0.72 1.   0.58]\n",
      " [0.57 0.51 0.58 1.  ]]\n"
     ]
    }
   ],
   "source": [
    "import numpy as np\n",
    "\n",
    "def sentence_embedding(sentence):\n",
    "    input_ids = tokenizer.encode(sentence, return_tensors='pt')\n",
    "    hidden_states, _ = model(input_ids)\n",
    "    return torch.mean(hidden_states, dim=1)\n",
    "\n",
    "sentences = ['春眠不觉晓','大梦谁先觉','浓睡不消残酒','东临碣石以观沧海']\n",
    "\n",
    "with torch.no_grad():\n",
    "    vs = [sentence_embedding(sentence).numpy() for sentence in sentences]\n",
    "    nvs = [v / np.linalg.norm(v) for v in vs] # normalize each vector\n",
    "    print(f\"np.array(nvs).shape:{np.array(nvs).shape}\")\n",
    "    m = np.array(nvs).squeeze(1) # shape (4, 768)\n",
    "    print(np.around(m @ m.T, decimals=2)) # pairwise cosine similarity"
   ]
  },
  {
   "cell_type": "code",
   "execution_count": 7,
   "metadata": {
    "colab": {},
    "colab_type": "code",
    "collapsed": true,
    "id": "mlmwR65XOVLE"
   },
   "outputs": [],
   "source": []
  }
 ],
 "metadata": {
  "accelerator": "GPU",
  "colab": {
   "collapsed_sections": [],
   "name": "T2_transformers_install.ipynb",
   "provenance": []
  },
  "hide_input": false,
  "kernelspec": {
   "display_name": "Python 3",
   "language": "python",
   "name": "python3"
  },
  "language_info": {
   "codemirror_mode": {
    "name": "ipython",
    "version": 3
   },
   "file_extension": ".py",
   "mimetype": "text/x-python",
   "name": "python",
   "nbconvert_exporter": "python",
   "pygments_lexer": "ipython3",
   "version": "3.6.1"
  },
  "toc": {
   "base_numbering": 1,
   "nav_menu": {},
   "number_sections": true,
   "sideBar": true,
   "skip_h1_title": false,
   "title_cell": "Table of Contents",
   "title_sidebar": "Contents",
   "toc_cell": false,
   "toc_position": {},
   "toc_section_display": true,
   "toc_window_display": false
  },
  "widgets": {
   "application/vnd.jupyter.widget-state+json": {
    "04b5ff2c7c024b0a9358e321a8212499": {
     "model_module": "@jupyter-widgets/controls",
     "model_name": "HBoxModel",
     "state": {
      "_dom_classes": [],
      "_model_module": "@jupyter-widgets/controls",
      "_model_module_version": "1.5.0",
      "_model_name": "HBoxModel",
      "_view_count": null,
      "_view_module": "@jupyter-widgets/controls",
      "_view_module_version": "1.5.0",
      "_view_name": "HBoxView",
      "box_style": "",
      "children": [
       "IPY_MODEL_a0e4485d563b4bdcbeafeae903993e98",
       "IPY_MODEL_3b8af1af57f945c58f667fd7a2be472c"
      ],
      "layout": "IPY_MODEL_53e8e35202b34e3b8ef5c06a232450e6"
     }
    },
    "08845c9070114100b0abb3bc48cdbf80": {
     "model_module": "@jupyter-widgets/controls",
     "model_name": "DescriptionStyleModel",
     "state": {
      "_model_module": "@jupyter-widgets/controls",
      "_model_module_version": "1.5.0",
      "_model_name": "DescriptionStyleModel",
      "_view_count": null,
      "_view_module": "@jupyter-widgets/base",
      "_view_module_version": "1.2.0",
      "_view_name": "StyleView",
      "description_width": ""
     }
    },
    "1113e04c26744174bf5820afa3e4c293": {
     "model_module": "@jupyter-widgets/base",
     "model_name": "LayoutModel",
     "state": {
      "_model_module": "@jupyter-widgets/base",
      "_model_module_version": "1.2.0",
      "_model_name": "LayoutModel",
      "_view_count": null,
      "_view_module": "@jupyter-widgets/base",
      "_view_module_version": "1.2.0",
      "_view_name": "LayoutView",
      "align_content": null,
      "align_items": null,
      "align_self": null,
      "border": null,
      "bottom": null,
      "display": null,
      "flex": null,
      "flex_flow": null,
      "grid_area": null,
      "grid_auto_columns": null,
      "grid_auto_flow": null,
      "grid_auto_rows": null,
      "grid_column": null,
      "grid_gap": null,
      "grid_row": null,
      "grid_template_areas": null,
      "grid_template_columns": null,
      "grid_template_rows": null,
      "height": null,
      "justify_content": null,
      "justify_items": null,
      "left": null,
      "margin": null,
      "max_height": null,
      "max_width": null,
      "min_height": null,
      "min_width": null,
      "object_fit": null,
      "object_position": null,
      "order": null,
      "overflow": null,
      "overflow_x": null,
      "overflow_y": null,
      "padding": null,
      "right": null,
      "top": null,
      "visibility": null,
      "width": null
     }
    },
    "3b8af1af57f945c58f667fd7a2be472c": {
     "model_module": "@jupyter-widgets/controls",
     "model_name": "HTMLModel",
     "state": {
      "_dom_classes": [],
      "_model_module": "@jupyter-widgets/controls",
      "_model_module_version": "1.5.0",
      "_model_name": "HTMLModel",
      "_view_count": null,
      "_view_module": "@jupyter-widgets/controls",
      "_view_module_version": "1.5.0",
      "_view_name": "HTMLView",
      "description": "",
      "description_tooltip": null,
      "layout": "IPY_MODEL_d21a6a78bea345ba8e9d0dac2fe97df3",
      "placeholder": "​",
      "style": "IPY_MODEL_69e7ba16413546fa911d968bc621a032",
      "value": " 624/624 [00:00&lt;00:00, 1.31kB/s]"
     }
    },
    "53e8e35202b34e3b8ef5c06a232450e6": {
     "model_module": "@jupyter-widgets/base",
     "model_name": "LayoutModel",
     "state": {
      "_model_module": "@jupyter-widgets/base",
      "_model_module_version": "1.2.0",
      "_model_name": "LayoutModel",
      "_view_count": null,
      "_view_module": "@jupyter-widgets/base",
      "_view_module_version": "1.2.0",
      "_view_name": "LayoutView",
      "align_content": null,
      "align_items": null,
      "align_self": null,
      "border": null,
      "bottom": null,
      "display": null,
      "flex": null,
      "flex_flow": null,
      "grid_area": null,
      "grid_auto_columns": null,
      "grid_auto_flow": null,
      "grid_auto_rows": null,
      "grid_column": null,
      "grid_gap": null,
      "grid_row": null,
      "grid_template_areas": null,
      "grid_template_columns": null,
      "grid_template_rows": null,
      "height": null,
      "justify_content": null,
      "justify_items": null,
      "left": null,
      "margin": null,
      "max_height": null,
      "max_width": null,
      "min_height": null,
      "min_width": null,
      "object_fit": null,
      "object_position": null,
      "order": null,
      "overflow": null,
      "overflow_x": null,
      "overflow_y": null,
      "padding": null,
      "right": null,
      "top": null,
      "visibility": null,
      "width": null
     }
    },
    "66c7b019ab1747cf907e331ba5aa5eb7": {
     "model_module": "@jupyter-widgets/base",
     "model_name": "LayoutModel",
     "state": {
      "_model_module": "@jupyter-widgets/base",
      "_model_module_version": "1.2.0",
      "_model_name": "LayoutModel",
      "_view_count": null,
      "_view_module": "@jupyter-widgets/base",
      "_view_module_version": "1.2.0",
      "_view_name": "LayoutView",
      "align_content": null,
      "align_items": null,
      "align_self": null,
      "border": null,
      "bottom": null,
      "display": null,
      "flex": null,
      "flex_flow": null,
      "grid_area": null,
      "grid_auto_columns": null,
      "grid_auto_flow": null,
      "grid_auto_rows": null,
      "grid_column": null,
      "grid_gap": null,
      "grid_row": null,
      "grid_template_areas": null,
      "grid_template_columns": null,
      "grid_template_rows": null,
      "height": null,
      "justify_content": null,
      "justify_items": null,
      "left": null,
      "margin": null,
      "max_height": null,
      "max_width": null,
      "min_height": null,
      "min_width": null,
      "object_fit": null,
      "object_position": null,
      "order": null,
      "overflow": null,
      "overflow_x": null,
      "overflow_y": null,
      "padding": null,
      "right": null,
      "top": null,
      "visibility": null,
      "width": null
     }
    },
    "69e7ba16413546fa911d968bc621a032": {
     "model_module": "@jupyter-widgets/controls",
     "model_name": "DescriptionStyleModel",
     "state": {
      "_model_module": "@jupyter-widgets/controls",
      "_model_module_version": "1.5.0",
      "_model_name": "DescriptionStyleModel",
      "_view_count": null,
      "_view_module": "@jupyter-widgets/base",
      "_view_module_version": "1.2.0",
      "_view_name": "StyleView",
      "description_width": ""
     }
    },
    "6ecf2bf0b1014e288a3d7aec4d54a445": {
     "model_module": "@jupyter-widgets/base",
     "model_name": "LayoutModel",
     "state": {
      "_model_module": "@jupyter-widgets/base",
      "_model_module_version": "1.2.0",
      "_model_name": "LayoutModel",
      "_view_count": null,
      "_view_module": "@jupyter-widgets/base",
      "_view_module_version": "1.2.0",
      "_view_name": "LayoutView",
      "align_content": null,
      "align_items": null,
      "align_self": null,
      "border": null,
      "bottom": null,
      "display": null,
      "flex": null,
      "flex_flow": null,
      "grid_area": null,
      "grid_auto_columns": null,
      "grid_auto_flow": null,
      "grid_auto_rows": null,
      "grid_column": null,
      "grid_gap": null,
      "grid_row": null,
      "grid_template_areas": null,
      "grid_template_columns": null,
      "grid_template_rows": null,
      "height": null,
      "justify_content": null,
      "justify_items": null,
      "left": null,
      "margin": null,
      "max_height": null,
      "max_width": null,
      "min_height": null,
      "min_width": null,
      "object_fit": null,
      "object_position": null,
      "order": null,
      "overflow": null,
      "overflow_x": null,
      "overflow_y": null,
      "padding": null,
      "right": null,
      "top": null,
      "visibility": null,
      "width": null
     }
    },
    "719ebffe34844574a2c765cf533056d3": {
     "model_module": "@jupyter-widgets/controls",
     "model_name": "FloatProgressModel",
     "state": {
      "_dom_classes": [],
      "_model_module": "@jupyter-widgets/controls",
      "_model_module_version": "1.5.0",
      "_model_name": "FloatProgressModel",
      "_view_count": null,
      "_view_module": "@jupyter-widgets/controls",
      "_view_module_version": "1.5.0",
      "_view_name": "ProgressView",
      "bar_style": "success",
      "description": "Downloading: 100%",
      "description_tooltip": null,
      "layout": "IPY_MODEL_92f9dc27c09c42dda36399a2b88c26f5",
      "max": 109540,
      "min": 0,
      "orientation": "horizontal",
      "style": "IPY_MODEL_f6f9568d2521453cb4344b6b7ed5b9f3",
      "value": 109540
     }
    },
    "71d9bfd089f44806bb16f0887cfc5708": {
     "model_module": "@jupyter-widgets/controls",
     "model_name": "HTMLModel",
     "state": {
      "_dom_classes": [],
      "_model_module": "@jupyter-widgets/controls",
      "_model_module_version": "1.5.0",
      "_model_name": "HTMLModel",
      "_view_count": null,
      "_view_module": "@jupyter-widgets/controls",
      "_view_module_version": "1.5.0",
      "_view_name": "HTMLView",
      "description": "",
      "description_tooltip": null,
      "layout": "IPY_MODEL_d8f303e25b48466fb05523a900a6e1fa",
      "placeholder": "​",
      "style": "IPY_MODEL_08845c9070114100b0abb3bc48cdbf80",
      "value": " 110k/110k [00:00&lt;00:00, 757kB/s]"
     }
    },
    "73d0a665e35d4568930d5eb74ef00b35": {
     "model_module": "@jupyter-widgets/controls",
     "model_name": "ProgressStyleModel",
     "state": {
      "_model_module": "@jupyter-widgets/controls",
      "_model_module_version": "1.5.0",
      "_model_name": "ProgressStyleModel",
      "_view_count": null,
      "_view_module": "@jupyter-widgets/base",
      "_view_module_version": "1.2.0",
      "_view_name": "StyleView",
      "bar_color": null,
      "description_width": "initial"
     }
    },
    "860c24e0f5cc4e75ade9d75eee567e27": {
     "model_module": "@jupyter-widgets/base",
     "model_name": "LayoutModel",
     "state": {
      "_model_module": "@jupyter-widgets/base",
      "_model_module_version": "1.2.0",
      "_model_name": "LayoutModel",
      "_view_count": null,
      "_view_module": "@jupyter-widgets/base",
      "_view_module_version": "1.2.0",
      "_view_name": "LayoutView",
      "align_content": null,
      "align_items": null,
      "align_self": null,
      "border": null,
      "bottom": null,
      "display": null,
      "flex": null,
      "flex_flow": null,
      "grid_area": null,
      "grid_auto_columns": null,
      "grid_auto_flow": null,
      "grid_auto_rows": null,
      "grid_column": null,
      "grid_gap": null,
      "grid_row": null,
      "grid_template_areas": null,
      "grid_template_columns": null,
      "grid_template_rows": null,
      "height": null,
      "justify_content": null,
      "justify_items": null,
      "left": null,
      "margin": null,
      "max_height": null,
      "max_width": null,
      "min_height": null,
      "min_width": null,
      "object_fit": null,
      "object_position": null,
      "order": null,
      "overflow": null,
      "overflow_x": null,
      "overflow_y": null,
      "padding": null,
      "right": null,
      "top": null,
      "visibility": null,
      "width": null
     }
    },
    "92f9dc27c09c42dda36399a2b88c26f5": {
     "model_module": "@jupyter-widgets/base",
     "model_name": "LayoutModel",
     "state": {
      "_model_module": "@jupyter-widgets/base",
      "_model_module_version": "1.2.0",
      "_model_name": "LayoutModel",
      "_view_count": null,
      "_view_module": "@jupyter-widgets/base",
      "_view_module_version": "1.2.0",
      "_view_name": "LayoutView",
      "align_content": null,
      "align_items": null,
      "align_self": null,
      "border": null,
      "bottom": null,
      "display": null,
      "flex": null,
      "flex_flow": null,
      "grid_area": null,
      "grid_auto_columns": null,
      "grid_auto_flow": null,
      "grid_auto_rows": null,
      "grid_column": null,
      "grid_gap": null,
      "grid_row": null,
      "grid_template_areas": null,
      "grid_template_columns": null,
      "grid_template_rows": null,
      "height": null,
      "justify_content": null,
      "justify_items": null,
      "left": null,
      "margin": null,
      "max_height": null,
      "max_width": null,
      "min_height": null,
      "min_width": null,
      "object_fit": null,
      "object_position": null,
      "order": null,
      "overflow": null,
      "overflow_x": null,
      "overflow_y": null,
      "padding": null,
      "right": null,
      "top": null,
      "visibility": null,
      "width": null
     }
    },
    "a0e4485d563b4bdcbeafeae903993e98": {
     "model_module": "@jupyter-widgets/controls",
     "model_name": "FloatProgressModel",
     "state": {
      "_dom_classes": [],
      "_model_module": "@jupyter-widgets/controls",
      "_model_module_version": "1.5.0",
      "_model_name": "FloatProgressModel",
      "_view_count": null,
      "_view_module": "@jupyter-widgets/controls",
      "_view_module_version": "1.5.0",
      "_view_name": "ProgressView",
      "bar_style": "success",
      "description": "Downloading: 100%",
      "description_tooltip": null,
      "layout": "IPY_MODEL_860c24e0f5cc4e75ade9d75eee567e27",
      "max": 624,
      "min": 0,
      "orientation": "horizontal",
      "style": "IPY_MODEL_edc18618b7c445fe9aea3aeb532819a4",
      "value": 624
     }
    },
    "a95fd4d77d164a45bc9c73094f407707": {
     "model_module": "@jupyter-widgets/controls",
     "model_name": "HBoxModel",
     "state": {
      "_dom_classes": [],
      "_model_module": "@jupyter-widgets/controls",
      "_model_module_version": "1.5.0",
      "_model_name": "HBoxModel",
      "_view_count": null,
      "_view_module": "@jupyter-widgets/controls",
      "_view_module_version": "1.5.0",
      "_view_name": "HBoxView",
      "box_style": "",
      "children": [
       "IPY_MODEL_719ebffe34844574a2c765cf533056d3",
       "IPY_MODEL_71d9bfd089f44806bb16f0887cfc5708"
      ],
      "layout": "IPY_MODEL_1113e04c26744174bf5820afa3e4c293"
     }
    },
    "b4f0424f9d2e4c22b0c720f04570fab3": {
     "model_module": "@jupyter-widgets/controls",
     "model_name": "HTMLModel",
     "state": {
      "_dom_classes": [],
      "_model_module": "@jupyter-widgets/controls",
      "_model_module_version": "1.5.0",
      "_model_name": "HTMLModel",
      "_view_count": null,
      "_view_module": "@jupyter-widgets/controls",
      "_view_module_version": "1.5.0",
      "_view_name": "HTMLView",
      "description": "",
      "description_tooltip": null,
      "layout": "IPY_MODEL_6ecf2bf0b1014e288a3d7aec4d54a445",
      "placeholder": "​",
      "style": "IPY_MODEL_cfb95f5a7c1c40469b47657cba675f16",
      "value": " 412M/412M [00:10&lt;00:00, 40.0MB/s]"
     }
    },
    "bda3ebffba77406c822f29fcb6cb2b77": {
     "model_module": "@jupyter-widgets/controls",
     "model_name": "HBoxModel",
     "state": {
      "_dom_classes": [],
      "_model_module": "@jupyter-widgets/controls",
      "_model_module_version": "1.5.0",
      "_model_name": "HBoxModel",
      "_view_count": null,
      "_view_module": "@jupyter-widgets/controls",
      "_view_module_version": "1.5.0",
      "_view_name": "HBoxView",
      "box_style": "",
      "children": [
       "IPY_MODEL_c38cf1b2d476428b94f2bbd34b23af53",
       "IPY_MODEL_b4f0424f9d2e4c22b0c720f04570fab3"
      ],
      "layout": "IPY_MODEL_f33a560acc2d44458d8f9c86389d0666"
     }
    },
    "c38cf1b2d476428b94f2bbd34b23af53": {
     "model_module": "@jupyter-widgets/controls",
     "model_name": "FloatProgressModel",
     "state": {
      "_dom_classes": [],
      "_model_module": "@jupyter-widgets/controls",
      "_model_module_version": "1.5.0",
      "_model_name": "FloatProgressModel",
      "_view_count": null,
      "_view_module": "@jupyter-widgets/controls",
      "_view_module_version": "1.5.0",
      "_view_name": "ProgressView",
      "bar_style": "success",
      "description": "Downloading: 100%",
      "description_tooltip": null,
      "layout": "IPY_MODEL_66c7b019ab1747cf907e331ba5aa5eb7",
      "max": 411577189,
      "min": 0,
      "orientation": "horizontal",
      "style": "IPY_MODEL_73d0a665e35d4568930d5eb74ef00b35",
      "value": 411577189
     }
    },
    "cfb95f5a7c1c40469b47657cba675f16": {
     "model_module": "@jupyter-widgets/controls",
     "model_name": "DescriptionStyleModel",
     "state": {
      "_model_module": "@jupyter-widgets/controls",
      "_model_module_version": "1.5.0",
      "_model_name": "DescriptionStyleModel",
      "_view_count": null,
      "_view_module": "@jupyter-widgets/base",
      "_view_module_version": "1.2.0",
      "_view_name": "StyleView",
      "description_width": ""
     }
    },
    "d21a6a78bea345ba8e9d0dac2fe97df3": {
     "model_module": "@jupyter-widgets/base",
     "model_name": "LayoutModel",
     "state": {
      "_model_module": "@jupyter-widgets/base",
      "_model_module_version": "1.2.0",
      "_model_name": "LayoutModel",
      "_view_count": null,
      "_view_module": "@jupyter-widgets/base",
      "_view_module_version": "1.2.0",
      "_view_name": "LayoutView",
      "align_content": null,
      "align_items": null,
      "align_self": null,
      "border": null,
      "bottom": null,
      "display": null,
      "flex": null,
      "flex_flow": null,
      "grid_area": null,
      "grid_auto_columns": null,
      "grid_auto_flow": null,
      "grid_auto_rows": null,
      "grid_column": null,
      "grid_gap": null,
      "grid_row": null,
      "grid_template_areas": null,
      "grid_template_columns": null,
      "grid_template_rows": null,
      "height": null,
      "justify_content": null,
      "justify_items": null,
      "left": null,
      "margin": null,
      "max_height": null,
      "max_width": null,
      "min_height": null,
      "min_width": null,
      "object_fit": null,
      "object_position": null,
      "order": null,
      "overflow": null,
      "overflow_x": null,
      "overflow_y": null,
      "padding": null,
      "right": null,
      "top": null,
      "visibility": null,
      "width": null
     }
    },
    "d8f303e25b48466fb05523a900a6e1fa": {
     "model_module": "@jupyter-widgets/base",
     "model_name": "LayoutModel",
     "state": {
      "_model_module": "@jupyter-widgets/base",
      "_model_module_version": "1.2.0",
      "_model_name": "LayoutModel",
      "_view_count": null,
      "_view_module": "@jupyter-widgets/base",
      "_view_module_version": "1.2.0",
      "_view_name": "LayoutView",
      "align_content": null,
      "align_items": null,
      "align_self": null,
      "border": null,
      "bottom": null,
      "display": null,
      "flex": null,
      "flex_flow": null,
      "grid_area": null,
      "grid_auto_columns": null,
      "grid_auto_flow": null,
      "grid_auto_rows": null,
      "grid_column": null,
      "grid_gap": null,
      "grid_row": null,
      "grid_template_areas": null,
      "grid_template_columns": null,
      "grid_template_rows": null,
      "height": null,
      "justify_content": null,
      "justify_items": null,
      "left": null,
      "margin": null,
      "max_height": null,
      "max_width": null,
      "min_height": null,
      "min_width": null,
      "object_fit": null,
      "object_position": null,
      "order": null,
      "overflow": null,
      "overflow_x": null,
      "overflow_y": null,
      "padding": null,
      "right": null,
      "top": null,
      "visibility": null,
      "width": null
     }
    },
    "edc18618b7c445fe9aea3aeb532819a4": {
     "model_module": "@jupyter-widgets/controls",
     "model_name": "ProgressStyleModel",
     "state": {
      "_model_module": "@jupyter-widgets/controls",
      "_model_module_version": "1.5.0",
      "_model_name": "ProgressStyleModel",
      "_view_count": null,
      "_view_module": "@jupyter-widgets/base",
      "_view_module_version": "1.2.0",
      "_view_name": "StyleView",
      "bar_color": null,
      "description_width": "initial"
     }
    },
    "f33a560acc2d44458d8f9c86389d0666": {
     "model_module": "@jupyter-widgets/base",
     "model_name": "LayoutModel",
     "state": {
      "_model_module": "@jupyter-widgets/base",
      "_model_module_version": "1.2.0",
      "_model_name": "LayoutModel",
      "_view_count": null,
      "_view_module": "@jupyter-widgets/base",
      "_view_module_version": "1.2.0",
      "_view_name": "LayoutView",
      "align_content": null,
      "align_items": null,
      "align_self": null,
      "border": null,
      "bottom": null,
      "display": null,
      "flex": null,
      "flex_flow": null,
      "grid_area": null,
      "grid_auto_columns": null,
      "grid_auto_flow": null,
      "grid_auto_rows": null,
      "grid_column": null,
      "grid_gap": null,
      "grid_row": null,
      "grid_template_areas": null,
      "grid_template_columns": null,
      "grid_template_rows": null,
      "height": null,
      "justify_content": null,
      "justify_items": null,
      "left": null,
      "margin": null,
      "max_height": null,
      "max_width": null,
      "min_height": null,
      "min_width": null,
      "object_fit": null,
      "object_position": null,
      "order": null,
      "overflow": null,
      "overflow_x": null,
      "overflow_y": null,
      "padding": null,
      "right": null,
      "top": null,
      "visibility": null,
      "width": null
     }
    },
    "f6f9568d2521453cb4344b6b7ed5b9f3": {
     "model_module": "@jupyter-widgets/controls",
     "model_name": "ProgressStyleModel",
     "state": {
      "_model_module": "@jupyter-widgets/controls",
      "_model_module_version": "1.5.0",
      "_model_name": "ProgressStyleModel",
      "_view_count": null,
      "_view_module": "@jupyter-widgets/base",
      "_view_module_version": "1.2.0",
      "_view_name": "StyleView",
      "bar_color": null,
      "description_width": "initial"
     }
    }
   }
  }
 },
 "nbformat": 4,
 "nbformat_minor": 1
}
